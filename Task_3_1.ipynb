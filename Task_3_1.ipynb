{
  "nbformat": 4,
  "nbformat_minor": 0,
  "metadata": {
    "colab": {
      "provenance": []
    },
    "kernelspec": {
      "name": "python3",
      "display_name": "Python 3"
    },
    "language_info": {
      "name": "python"
    }
  },
  "cells": [
    {
      "cell_type": "markdown",
      "source": [
        "a) Написать программу, которая удаляет из списка все элементы, стоящие на четных позициях."
      ],
      "metadata": {
        "id": "KSDtbAM9ODy_"
      }
    },
    {
      "cell_type": "code",
      "source": [
        "def remove_even_positions(lst):\n",
        "    return [lst[i] for i in range(len(lst)) if i % 2 == 0]"
      ],
      "metadata": {
        "id": "05qcjLPpOEnP"
      },
      "execution_count": 4,
      "outputs": []
    },
    {
      "cell_type": "code",
      "source": [
        "# Пример использования\n",
        "my_list = [1, 2, 3, 4, 5, 6, 7, 8, 9, 10]\n",
        "result = remove_even_positions(my_list)"
      ],
      "metadata": {
        "id": "mhtHQidyOI9d"
      },
      "execution_count": 5,
      "outputs": []
    },
    {
      "cell_type": "code",
      "source": [
        "print(result)"
      ],
      "metadata": {
        "colab": {
          "base_uri": "https://localhost:8080/"
        },
        "id": "tC_8NqivOMl3",
        "outputId": "cdda0006-d66d-4933-872e-d5b8c8f18c9a"
      },
      "execution_count": 6,
      "outputs": [
        {
          "output_type": "stream",
          "name": "stdout",
          "text": [
            "[1, 3, 5, 7, 9]\n"
          ]
        }
      ]
    },
    {
      "cell_type": "markdown",
      "source": [
        "b) Написать программу, которая считывает список слов и находит слова, содержащие более трех гласных букв."
      ],
      "metadata": {
        "id": "hw2GsK3oPC_Z"
      }
    },
    {
      "cell_type": "code",
      "source": [
        "def find_words_with_more_vowels(words):\n",
        "    vowels = ['a', 'e', 'i', 'o', 'u']\n",
        "    result = []\n",
        "    for word in words:\n",
        "        vowel_count = sum(1 for char in word if char.lower() in vowels)\n",
        "        if vowel_count > 3:\n",
        "            result.append(word)\n",
        "    return result"
      ],
      "metadata": {
        "id": "Utpke81QPGOW"
      },
      "execution_count": 7,
      "outputs": []
    },
    {
      "cell_type": "code",
      "source": [
        "# Пример использования\n",
        "word_list = ['hello', 'python', 'programming', 'education', 'elephant']\n",
        "result = find_words_with_more_vowels(word_list)"
      ],
      "metadata": {
        "id": "YMpqWa-bPSua"
      },
      "execution_count": 8,
      "outputs": []
    },
    {
      "cell_type": "code",
      "source": [
        "print(result)"
      ],
      "metadata": {
        "colab": {
          "base_uri": "https://localhost:8080/"
        },
        "id": "to11dyGNPXPK",
        "outputId": "74e8514e-b8d0-4ea2-f02b-d9de491c9f71"
      },
      "execution_count": 9,
      "outputs": [
        {
          "output_type": "stream",
          "name": "stdout",
          "text": [
            "['education']\n"
          ]
        }
      ]
    },
    {
      "cell_type": "markdown",
      "source": [
        "c) Написать программу, которая находит второй по величине элемент в списке."
      ],
      "metadata": {
        "id": "_a78gn7-Pa2W"
      }
    },
    {
      "cell_type": "code",
      "source": [
        "def find_second_largest(lst):\n",
        "    if len(lst) < 2:\n",
        "        return None\n",
        "    largest = second_largest = float('-inf')\n",
        "    for num in lst:\n",
        "        if num > largest:\n",
        "            second_largest = largest\n",
        "            largest = num\n",
        "        elif largest > num > second_largest:\n",
        "            second_largest = num\n",
        "    return second_largest"
      ],
      "metadata": {
        "id": "u6Ixgy2oPeWs"
      },
      "execution_count": 20,
      "outputs": []
    },
    {
      "cell_type": "code",
      "source": [
        "# Пример использования\n",
        "my_list = [9, 5, 3, 7, 9, 2, 1]\n",
        "result = find_second_largest(my_list)"
      ],
      "metadata": {
        "id": "Dv6PO_nWPia8"
      },
      "execution_count": 21,
      "outputs": []
    },
    {
      "cell_type": "code",
      "source": [
        "print(result)"
      ],
      "metadata": {
        "colab": {
          "base_uri": "https://localhost:8080/"
        },
        "id": "pSmeoUOQPms3",
        "outputId": "7b4a6518-3d62-4c9b-e10e-e2da1d8ecadd"
      },
      "execution_count": 22,
      "outputs": [
        {
          "output_type": "stream",
          "name": "stdout",
          "text": [
            "7\n"
          ]
        }
      ]
    },
    {
      "cell_type": "markdown",
      "source": [
        "d) Написать программу, которая удаляет из списка все дубликаты."
      ],
      "metadata": {
        "id": "rjMvSx_-R84M"
      }
    },
    {
      "cell_type": "code",
      "source": [
        "def remove_duplicates(lst):\n",
        "    return list(set(lst))"
      ],
      "metadata": {
        "id": "-pslIvMOR_1W"
      },
      "execution_count": 23,
      "outputs": []
    },
    {
      "cell_type": "code",
      "source": [
        "# Пример использования\n",
        "my_list = [1, 2, 3, 2, 4, 5, 1, 3]\n",
        "result = remove_duplicates(my_list)"
      ],
      "metadata": {
        "id": "JpSXXDk9SGN-"
      },
      "execution_count": 24,
      "outputs": []
    },
    {
      "cell_type": "code",
      "source": [
        "print(result)"
      ],
      "metadata": {
        "colab": {
          "base_uri": "https://localhost:8080/"
        },
        "id": "AfOM0lZ9SJix",
        "outputId": "93877283-c302-41ad-900f-eef765a8d7ca"
      },
      "execution_count": 25,
      "outputs": [
        {
          "output_type": "stream",
          "name": "stdout",
          "text": [
            "[1, 2, 3, 4, 5]\n"
          ]
        }
      ]
    },
    {
      "cell_type": "markdown",
      "source": [
        "e) Написать программу, которая считывает данные из CSV-файла и создает словарь, где ключами являются значения в столбце «Name», а значениями — соответствующие им словари с информацией о поле, возрасте и зарплате."
      ],
      "metadata": {
        "id": "RsqBYZbOSQFJ"
      }
    },
    {
      "cell_type": "code",
      "source": [
        "import csv\n",
        "\n",
        "# Открываем CSV-файл\n",
        "with open('/content/drive/MyDrive/Task 3.1.csv', 'r', encoding='utf-8', newline='') as file:\n",
        "    # Создаем объект DictReader для чтения данных из файла\n",
        "    reader = csv.DictReader(file, delimiter=';')\n",
        "\n",
        "    # Создаем пустой словарь\n",
        "    dictionary = {}\n",
        "\n",
        "    # Проходимся по каждой строке CSV-файла\n",
        "    for row in reader:\n",
        "        # Получаем значения столбцов из текущей строки\n",
        "        name = row['Name']\n",
        "        gender = row['Gender']\n",
        "        age = int(row['Age'])\n",
        "        salary = int(row['Salary'])\n",
        "\n",
        "        # Создаем словарь с информацией о поле, возрасте и зарплате\n",
        "        info = {gender, age, salary}\n",
        "\n",
        "        # Проверяем, есть ли уже такой ключ (имя) в словаре\n",
        "        if name in dictionary:\n",
        "            # Если есть, добавляем информацию в список значений для этого ключа\n",
        "            dictionary[name].append(info)\n",
        "        else:\n",
        "            # Если ключа (имени) еще нет в словаре, создаем список со значением\n",
        "            dictionary[name] = [info]\n",
        "\n",
        "# Выводим получившийся словарь\n",
        "print(dictionary)"
      ],
      "metadata": {
        "colab": {
          "base_uri": "https://localhost:8080/"
        },
        "id": "6FzJyF1NeDHh",
        "outputId": "67c4a26c-e9f0-4f03-d907-d838837ca513"
      },
      "execution_count": 10,
      "outputs": [
        {
          "output_type": "stream",
          "name": "stdout",
          "text": [
            "{'John': [{50000, 'Male', 28}], 'Sarah': [{'Female', 32, 60000}], 'Michael': [{70000, 'Male', 35}], 'Emily': [{'Female', 29, 55000}]}\n"
          ]
        }
      ]
    },
    {
      "cell_type": "markdown",
      "source": [
        "f) Написать программу, которая запрашивает у пользователя строку и выводит на экран все ее подстроки длиной не менее трех символов."
      ],
      "metadata": {
        "id": "GOZDjuvoesxT"
      }
    },
    {
      "cell_type": "code",
      "source": [
        "def print_substrings(string):\n",
        "    n = len(string)\n",
        "    for i in range(n):\n",
        "        for j in range(i + 3, n + 1):\n",
        "            print(string[i:j])\n",
        "\n",
        "# Пример использования\n",
        "user_input = input(\"Введите строку: \")\n",
        "print_substrings(user_input)"
      ],
      "metadata": {
        "colab": {
          "base_uri": "https://localhost:8080/"
        },
        "id": "4Xyt3HQmt52x",
        "outputId": "9ba1be38-d68e-45f3-a98b-9e3ba9428f41"
      },
      "execution_count": 20,
      "outputs": [
        {
          "output_type": "stream",
          "name": "stdout",
          "text": [
            "Введите строку: Hello\n",
            "Hel\n",
            "Hell\n",
            "Hello\n",
            "ell\n",
            "ello\n",
            "llo\n"
          ]
        }
      ]
    }
  ]
}